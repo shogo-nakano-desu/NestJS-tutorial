{
  "nbformat": 4,
  "nbformat_minor": 0,
  "metadata": {
    "colab": {
      "name": "unit8_discussion.ipynb",
      "provenance": [],
      "authorship_tag": "ABX9TyMJ/E9tbsYySvqld8DlGjy0",
      "include_colab_link": true
    },
    "kernelspec": {
      "name": "python3",
      "display_name": "Python 3"
    },
    "language_info": {
      "name": "python"
    }
  },
  "cells": [
    {
      "cell_type": "markdown",
      "metadata": {
        "id": "view-in-github",
        "colab_type": "text"
      },
      "source": [
        "<a href=\"https://colab.research.google.com/github/shogo-nakano-desu/NestJS-tutorial/blob/main/unit8_discussion.ipynb\" target=\"_parent\"><img src=\"https://colab.research.google.com/assets/colab-badge.svg\" alt=\"Open In Colab\"/></a>"
      ]
    },
    {
      "cell_type": "markdown",
      "metadata": {
        "id": "CdjTYhGM2h1Q"
      },
      "source": [
        "Describe how catching exceptions can help with file errors. Write three Python examples that actually generate file errors on your computer and catch the errors with try: except: blocks. Include the code and output for each example in your post. \n",
        "\n",
        "Describe how you might deal with each error if you were writing a large production program. These descriptions should be general ideas in English, not actual Python code. "
      ]
    },
    {
      "cell_type": "code",
      "metadata": {
        "colab": {
          "base_uri": "https://localhost:8080/"
        },
        "id": "gM5QNzFy6UfQ",
        "outputId": "53f28de1-869a-4a5e-b7f0-a4b2ac102d89"
      },
      "source": [
        "from google.colab import drive\n",
        "drive.mount('/content/drive')"
      ],
      "execution_count": null,
      "outputs": [
        {
          "output_type": "stream",
          "name": "stdout",
          "text": [
            "Mounted at /content/drive\n"
          ]
        }
      ]
    },
    {
      "cell_type": "code",
      "metadata": {
        "colab": {
          "base_uri": "https://localhost:8080/",
          "height": 266
        },
        "id": "uw2hbN4s2i8E",
        "outputId": "7024f66b-2cce-4518-a42a-c3232e20983d"
      },
      "source": [
        "import os\n",
        "# 1. File path is not correct error\n",
        "file_path = \"/err/file/path/sample.txt\"\n",
        "try:\n",
        "  fin = open(file_path)\n",
        "except:\n",
        "  print(f\"File path : {file_path} is not correct\")\n",
        "# output : File path /err/file/path/sample.txt is not correct\n",
        "\n",
        "# 2. There is no file error\n",
        "cwd = os.getcwd()\n",
        "file_name = \"incorrect.txt\"\n",
        "gen_path = os.path.join(cwd, file_name)\n",
        "try:\n",
        "  fin = open(gen_path)\n",
        "except:\n",
        "  print(f\"File name : {file_name} does not exist\")\n",
        "# output : File name : incorrect.txt does not exist\n",
        "\n",
        "# 3. Not readable error\n",
        "file_name2 = \"output.txt\"\n",
        "fout = open(file_name2, \"w\")\n",
        "try:\n",
        "  line = fout.readline()\n",
        "  print(line)\n",
        "except:\n",
        "  print(f\"File : {new_path} cannot be read\")\n",
        "# output : File : content/drive/My Drive/new.txt cannot be read"
      ],
      "execution_count": null,
      "outputs": [
        {
          "output_type": "stream",
          "name": "stdout",
          "text": [
            "File path : /err/file/path/sample.txt is not correct\n",
            "File name : incorrect.txt does not exist\n"
          ]
        },
        {
          "output_type": "error",
          "ename": "UnsupportedOperation",
          "evalue": "ignored",
          "traceback": [
            "\u001b[0;31m---------------------------------------------------------------------------\u001b[0m",
            "\u001b[0;31mUnsupportedOperation\u001b[0m                      Traceback (most recent call last)",
            "\u001b[0;32m<ipython-input-10-2d92757e8222>\u001b[0m in \u001b[0;36m<module>\u001b[0;34m()\u001b[0m\n\u001b[1;32m     23\u001b[0m \u001b[0mfile_name2\u001b[0m \u001b[0;34m=\u001b[0m \u001b[0;34m\"output.txt\"\u001b[0m\u001b[0;34m\u001b[0m\u001b[0;34m\u001b[0m\u001b[0m\n\u001b[1;32m     24\u001b[0m \u001b[0mfout\u001b[0m \u001b[0;34m=\u001b[0m \u001b[0mopen\u001b[0m\u001b[0;34m(\u001b[0m\u001b[0mfile_name2\u001b[0m\u001b[0;34m,\u001b[0m \u001b[0;34m\"w\"\u001b[0m\u001b[0;34m)\u001b[0m\u001b[0;34m\u001b[0m\u001b[0;34m\u001b[0m\u001b[0m\n\u001b[0;32m---> 25\u001b[0;31m \u001b[0mline\u001b[0m \u001b[0;34m=\u001b[0m \u001b[0mfout\u001b[0m\u001b[0;34m.\u001b[0m\u001b[0mreadline\u001b[0m\u001b[0;34m(\u001b[0m\u001b[0;34m)\u001b[0m\u001b[0;34m\u001b[0m\u001b[0;34m\u001b[0m\u001b[0m\n\u001b[0m\u001b[1;32m     26\u001b[0m \u001b[0;32mtry\u001b[0m\u001b[0;34m:\u001b[0m\u001b[0;34m\u001b[0m\u001b[0;34m\u001b[0m\u001b[0m\n\u001b[1;32m     27\u001b[0m   \u001b[0mline\u001b[0m \u001b[0;34m=\u001b[0m \u001b[0mfout\u001b[0m\u001b[0;34m.\u001b[0m\u001b[0mreadline\u001b[0m\u001b[0;34m(\u001b[0m\u001b[0;34m)\u001b[0m\u001b[0;34m\u001b[0m\u001b[0;34m\u001b[0m\u001b[0m\n",
            "\u001b[0;31mUnsupportedOperation\u001b[0m: not readable"
          ]
        }
      ]
    },
    {
      "cell_type": "markdown",
      "metadata": {
        "id": "SNtp1WMY2jyE"
      },
      "source": [
        "## Codes\n",
        "```\n",
        "import os\n",
        "# 1. File path is not correct error\n",
        "file_path = \"/err/file/path/sample.txt\"\n",
        "try:\n",
        "  fin = open(file_path)\n",
        "except:\n",
        "  print(f\"File path : {file_path} is not correct\")\n",
        "# output : File path /err/file/path/sample.txt is not correct\n",
        "\n",
        "# 2. There is no file error\n",
        "cwd = os.getcwd()\n",
        "file_name = \"incorrect.txt\"\n",
        "gen_path = os.path.join(cwd, file_name)\n",
        "try:\n",
        "  fin = open(gen_path)\n",
        "except:\n",
        "  print(f\"File name : {file_name} does not exist\")\n",
        "# output : File name : incorrect.txt does not exist\n",
        "\n",
        "# 3. Not readable error\n",
        "file_name2 = \"output.txt\"\n",
        "fout = open(file_name2, \"w\")\n",
        "try:\n",
        "  line = fout.readline()\n",
        "  print(line)\n",
        "except:\n",
        "  print(f\"File : {new_path} cannot be read\")\n",
        "# output : File : content/drive/My Drive/new.txt cannot be read\n",
        "```\n",
        "\n",
        "## How to deal with these errors\n",
        "I might have to deal with these errors by checking several situations. For instance, I could check file existance, directory existance, permission, file type(writable? readable?) etc."
      ]
    }
  ]
}